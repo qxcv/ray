{
 "cells": [
  {
   "cell_type": "markdown",
   "metadata": {},
   "source": [
    "# Plotting code for CS267 IRL project"
   ]
  },
  {
   "cell_type": "code",
   "execution_count": null,
   "metadata": {},
   "outputs": [],
   "source": [
    "%matplotlib inline\n",
    "\n",
    "import os.path as osp\n",
    "\n",
    "import numpy as np\n",
    "import pandas as pd\n",
    "import seaborn as sns\n",
    "import matplotlib.pyplot as plt\n",
    "\n",
    "# change context=\"paper\" for final report\n",
    "sns.set(context=\"poster\", style=\"darkgrid\")"
   ]
  },
  {
   "cell_type": "markdown",
   "metadata": {},
   "source": [
    "## Plots for small-scale neural network training"
   ]
  },
  {
   "cell_type": "code",
   "execution_count": null,
   "metadata": {},
   "outputs": [],
   "source": [
    "small_data = pd.read_csv(\"./small-expts/all.csv\")\n",
    "small_data[\"group\"] = small_data[\"type\"]\n",
    "has_gpu = small_data[\"gpus\"] > 0\n",
    "small_data.loc[has_gpu, \"group\"] = \"gpu\"\n",
    "\n",
    "grid = sns.FacetGrid(small_data, col=\"batch_size\", row=\"hiddens\",\n",
    "                    sharex=False, sharey=False, height=4,\n",
    "                     legend_out=True, aspect=1.8) \\\n",
    "  .map_dataframe(sns.barplot, x=\"group\", hue=\"cores\", y=\"samples_per_s\") \\\n",
    "  .set_axis_labels(\"Strategy\", \"Samples/s\") \\\n",
    "  .set_titles(\"$b={col_name}$, $h=({row_name})$\") \\\n",
    "  .add_legend(title=\"Cores\")\n",
    "plt.savefig(osp.expanduser('~/small-expts-plot.png'))\n",
    "plt.show()"
   ]
  },
  {
   "cell_type": "markdown",
   "metadata": {},
   "source": [
    "## Plots for training sample throughput"
   ]
  },
  {
   "cell_type": "code",
   "execution_count": null,
   "metadata": {},
   "outputs": [],
   "source": []
  },
  {
   "cell_type": "markdown",
   "metadata": {},
   "source": [
    "## Loss curves"
   ]
  },
  {
   "cell_type": "code",
   "execution_count": null,
   "metadata": {},
   "outputs": [],
   "source": []
  }
 ],
 "metadata": {
  "kernelspec": {
   "display_name": "Python 3",
   "language": "python",
   "name": "python3"
  },
  "language_info": {
   "codemirror_mode": {
    "name": "ipython",
    "version": 3
   },
   "file_extension": ".py",
   "mimetype": "text/x-python",
   "name": "python",
   "nbconvert_exporter": "python",
   "pygments_lexer": "ipython3",
   "version": "3.6.7"
  }
 },
 "nbformat": 4,
 "nbformat_minor": 2
}
